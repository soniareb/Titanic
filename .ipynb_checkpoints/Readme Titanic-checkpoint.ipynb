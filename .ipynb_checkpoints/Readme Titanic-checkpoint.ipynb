{
 "cells": [
  {
   "cell_type": "markdown",
   "metadata": {},
   "source": [
    "# Exploratory data analysis"
   ]
  },
  {
   "cell_type": "markdown",
   "metadata": {},
   "source": [
    "# missing values analysis"
   ]
  },
  {
   "cell_type": "raw",
   "metadata": {},
   "source": [
    "* on remarque que il y a pas beaucoup de valeurs manquantes sauf la colonne body ou il y a plus 90% des valeurs null aussi boat et cabin cotiennet pluseurs valeurs manquantes  \n",
    "* on ne remarque pas des groupes de données "
   ]
  },
  {
   "cell_type": "markdown",
   "metadata": {},
   "source": [
    "# examine the target column"
   ]
  },
  {
   "cell_type": "raw",
   "metadata": {},
   "source": [
    "40% survived"
   ]
  },
  {
   "cell_type": "code",
   "execution_count": null,
   "metadata": {},
   "outputs": [],
   "source": []
  }
 ],
 "metadata": {
  "kernelspec": {
   "display_name": "Python 3",
   "language": "python",
   "name": "python3"
  },
  "language_info": {
   "codemirror_mode": {
    "name": "ipython",
    "version": 3
   },
   "file_extension": ".py",
   "mimetype": "text/x-python",
   "name": "python",
   "nbconvert_exporter": "python",
   "pygments_lexer": "ipython3",
   "version": "3.6.9"
  }
 },
 "nbformat": 4,
 "nbformat_minor": 4
}
